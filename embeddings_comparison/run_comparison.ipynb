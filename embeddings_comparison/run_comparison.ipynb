{
 "cells": [
  {
   "cell_type": "markdown",
   "metadata": {},
   "source": [
    "# Initialise Notebook"
   ]
  },
  {
   "cell_type": "code",
   "execution_count": null,
   "metadata": {},
   "outputs": [],
   "source": [
    "# Import necessary libraries\n",
    "from dotenv import load_dotenv\n",
    "from openai import OpenAI\n",
    "import os\n",
    "from sentence_transformers import SentenceTransformer\n",
    "from tqdm.autonotebook import tqdm\n",
    "\n",
    "\n",
    "# Load environment variables from .env file\n",
    "load_dotenv();"
   ]
  },
  {
   "cell_type": "markdown",
   "metadata": {},
   "source": [
    "# Test Open AI embeddings"
   ]
  },
  {
   "cell_type": "code",
   "execution_count": null,
   "metadata": {},
   "outputs": [],
   "source": [
    "from embeddings_comparison.utils.embedding_models.open_ai import OPEN_AI_EMBEDDING_MODEL, OpenAIEmbeddingModel\n",
    "\n",
    "model = OpenAIEmbeddingModel(api_key=os.environ[\"OPEN_AI_KEY\"], model=OPEN_AI_EMBEDDING_MODEL.TEXT_EMBEDDING_3_SMALL)\n",
    "model.embed(\"Hello, world!\")"
   ]
  },
  {
   "cell_type": "markdown",
   "metadata": {},
   "source": [
    "# Test hugging face embeddings"
   ]
  },
  {
   "cell_type": "code",
   "execution_count": null,
   "metadata": {},
   "outputs": [],
   "source": [
    "from embeddings_comparison.utils.embedding_models.hugging_face import HUGGING_FACE_EMBEDDING_MODEL, HuggingFaceEmbeddingModel\n",
    "\n",
    "model = HuggingFaceEmbeddingModel(embedding_model_name = HUGGING_FACE_EMBEDDING_MODEL.ST_POLISH_PARAPHRASE_FROM_DISTILROBERTA)\n",
    "model.embed(\"Hello, world!\")"
   ]
  },
  {
   "cell_type": "markdown",
   "metadata": {},
   "source": [
    "# Test sdadas translation transformer"
   ]
  },
  {
   "cell_type": "code",
   "execution_count": null,
   "metadata": {},
   "outputs": [],
   "source": [
    "from embeddings_comparison.utils.translation_models.hugging_face import HUGGING_FACE_TRANSLATOR_MODEL, TranslatorEnglishToPolish\n",
    "\n",
    "TranslatorEnglishToPolish(translation_model_name=HUGGING_FACE_TRANSLATOR_MODEL.HUGGING_FACE_TRANSLATOR).translate(\"Witaj świecie!\")"
   ]
  },
  {
   "cell_type": "markdown",
   "metadata": {},
   "source": [
    "# Test Wiki Parser"
   ]
  },
  {
   "cell_type": "code",
   "execution_count": null,
   "metadata": {},
   "outputs": [],
   "source": [
    "from embeddings_comparison.utils import wiki_parser\n",
    "\n",
    "pages = wiki_parser.extractPagesFromFile(\"data/Wikipedia-20241111162837.xml\")\n",
    "# pages[10].text\n",
    "pages"
   ]
  },
  {
   "cell_type": "code",
   "execution_count": null,
   "metadata": {},
   "outputs": [],
   "source": []
  }
 ],
 "metadata": {
  "kernelspec": {
   "display_name": "embeddings-comparison-JqTXriCt-py3.12",
   "language": "python",
   "name": "python3"
  },
  "language_info": {
   "codemirror_mode": {
    "name": "ipython",
    "version": 3
   },
   "file_extension": ".py",
   "mimetype": "text/x-python",
   "name": "python",
   "nbconvert_exporter": "python",
   "pygments_lexer": "ipython3",
   "version": "3.12.2"
  }
 },
 "nbformat": 4,
 "nbformat_minor": 2
}
