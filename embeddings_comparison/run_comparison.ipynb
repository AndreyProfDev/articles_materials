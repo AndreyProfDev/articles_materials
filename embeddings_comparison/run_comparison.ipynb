{
 "cells": [
  {
   "cell_type": "code",
   "execution_count": null,
   "metadata": {},
   "outputs": [],
   "source": [
    "# Import necessary libraries\n",
    "from dotenv import load_dotenv\n",
    "from openai import OpenAI\n",
    "import os\n",
    "from sentence_transformers import SentenceTransformer\n",
    "from tqdm.autonotebook import tqdm\n",
    "\n",
    "\n",
    "# Load environment variables from .env file\n",
    "load_dotenv();"
   ]
  },
  {
   "cell_type": "markdown",
   "metadata": {},
   "source": [
    "# Test Open AI embeddings"
   ]
  },
  {
   "cell_type": "code",
   "execution_count": null,
   "metadata": {},
   "outputs": [],
   "source": [
    "from embeddings_comparison.utils.embedding_models.open_ai import OPEN_AI_EMBEDDING_MODEL, OpenAIEmbeddingModel\n",
    "\n",
    "model = OpenAIEmbeddingModel(api_key=os.environ[\"OPEN_AI_KEY\"], model=OPEN_AI_EMBEDDING_MODEL.TEXT_EMBEDDING_3_SMALL)\n",
    "model.embed(\"Hello, world!\")"
   ]
  },
  {
   "cell_type": "markdown",
   "metadata": {},
   "source": [
    "# Test hugging face embeddings"
   ]
  },
  {
   "cell_type": "code",
   "execution_count": null,
   "metadata": {},
   "outputs": [],
   "source": [
    "from embeddings_comparison.utils.embedding_models.hugging_face import HUGGING_FACE_EMBEDDING_MODEL, HuggingFaceEmbeddingModel\n",
    "\n",
    "model = HuggingFaceEmbeddingModel(embedding_model_name = HUGGING_FACE_EMBEDDING_MODEL.ST_POLISH_PARAPHRASE_FROM_DISTILROBERTA)\n",
    "model.embed(\"Hello, world!\")"
   ]
  },
  {
   "cell_type": "markdown",
   "metadata": {},
   "source": [
    "# Test sdadas translation transformer"
   ]
  },
  {
   "cell_type": "code",
   "execution_count": null,
   "metadata": {},
   "outputs": [],
   "source": [
    "from embeddings_comparison.utils.translation_models.hugging_face import HUGGING_FACE_TRANSLATOR_MODEL, TranslatorEnglishToPolish\n",
    "\n",
    "TranslatorEnglishToPolish(translation_model_name=HUGGING_FACE_TRANSLATOR_MODEL.HUGGING_FACE_TRANSLATOR).translate(\"Witaj świecie!\")"
   ]
  },
  {
   "cell_type": "markdown",
   "metadata": {},
   "source": [
    "# Test Wiki Parser"
   ]
  },
  {
   "cell_type": "code",
   "execution_count": 16,
   "metadata": {},
   "outputs": [
    {
     "name": "stdout",
     "output_type": "stream",
     "text": [
      "[ArticleSection(title='Main', content='Wychowanie fizyczne (wf, WF) – zamierzone i świadome działanie ukierunkowane na kształtowanie postaw prosomatycznych (tj. stosunku do ciała i fizycznego funkcjonowania) oraz postaw prospołecznych (tj. stosunku do życia i innych ludzi, przekonań i wartości moralnych), a równocześnie na wspieranie rozwoju fizycznego i zdrowia oraz kształtowanie trwałego obyczaju aktywności fizycznej i troskę o wydolność fizyczną, sprawność motoryczną i prawidłową postawę ciała.'),\n",
      " ArticleSection(title='Historia wychowania fizycznego', content='Świadome wychowanie fizyczne było znane już w czasach starożytnych (spartańskie wychowanie) i traktowane na równi z wychowaniem sportowym i wojskowym; nowożytne podstawy wychowania fizycznego powstały w epoce odrodzenia i oświecenia; w XIX w. ukształtowały się niezależne systemy wychowania fizycznego: oparty na gimnastyce bez elementów sportowych oraz (głównie w USA) oparty na grach i zabawach sportowych; po II wojnie światowej do wychowania fizycznego w coraz szerszym stopniu wprowadzano zajęcia typowo sportowe.'),\n",
      " ArticleSection(title='Rozwój myśli o wychowaniu fizycznym w Polsce', content='Polska myśl wychowania fizycznego sięga tradycjami odrodzenia (m.in. Wojciech Oczko i Sebastian Petrycy). Pierwszym podręcznikiem metodycznym dla nauczycieli, napisanym w języku polskim, były Powinności nauczyciela (I wydanie – 1787) autorstwa Grzegorza Piramowicza. W pracy tej przedstawiono także myśli w zakresie „wychowania co do ciała, to co do zdrowia i sił”. W Ustawach Komisji Edukacji Narodowej (1773–1794) podkreślano ścisły związek edukacji fizycznej z edukacją umysłową i moralną. Pierwszy raz nauczyciela wychowania fizycznego zatrudniono w liceum w Krzemieńcu na Wołyniu kierowanym przez Tadeusza Czackiego. Cykl wykładów o higienie i zdrowiu w tymże liceum prowadził dr Karol Kaczkowski. Na początku XIX wieku dzieło Jędrzeja Śniadeckiego Uwagi o fizycznym wychowaniu dzieci drukowane było w „Dzienniku Wileńskim” (1805 r.). Praca ukazała się drukiem dopiero w 1840 roku pod tytułem „O fizycznym wychowaniu dzieci”. Wśród później żyjących osób, które przysłużyły się rozwojowi wychowania fizycznego w Polsce należy wymienić Ludwika Bierkowskiego (1801–1860), Bronisława Trentowskiego (1808–1869), Henryka Jordana (1842–1907), Wenantego Piaseckiego (1832–1903), Władysława Ryszarda Kozłowskiego (1866–1915), Eugeniusz Piasecki (1872–1947), Waleriana Sikorskiego (1876–1940), Floriana Znanieckiego (1882–1956), Władysława Osmolskiego (1883–1935), Zygmunta Gilewicza (1880–1960). Na kształt i rozwój współczesnej teorii wychowania fizycznego największy wpływ wywierają takie osoby, jak: Roman Trześniowski, Ryszard Przewęda, Maciej Demel, Henryk Grabowski, Andrzej Pawłucki, Krzysztof Zuchora, Marian Bukowiec, Wiesław Osiński.\\nPionierską organizacją wychowania fizycznego i sportu w Polsce było Polskie Towarzystwo Gimnastyczne „Sokół”, którego pierwsze gniazdo zostało założone 7 lutego 1867 we Lwowie. Członkowie towarzystwa rozpoczęli po raz pierwszy w Polsce systematyczne lekcje gimnastyczne od 1 maja 1867 roku pod kierunkiem dra Wenantego Piaseckiego – lekarza oraz absolwenta kursów gimnastycznych w Pradze i Dreźnie.'),\n",
      " ArticleSection(title='Cele wychowania fizycznego', content='Współczesne cele wychowania fizycznego ukierunkowane są na wspieranie rozwoju społecznego, fizycznego i poznawczego. Pate i Hohn (1994) za misję wychowania fizycznego uznali „przygotowanie dzieci i młodzieży do fizycznie aktywnej dorosłości”. Wyróżnili następujące cele wychowania fizycznego:\\n# Wspieranie osiągnięć w zakresie umiejętności ruchowych.\\n# Promocja poprawy sprawności fizycznej.\\n# Wspieranie poznawczego uczenia.\\n# Wspieranie rozwoju społecznego.\\n# Wspieranie świadomości kulturowej i kulturalnej.\\n# Wspieranie osiągnięć szkolnych.\\n# Wspieranie i przygotowanie do całożyciowej aktywności fizycznej i utrzymanie sprawności.\\nNatomiast wg Osińskiego (2011) cele wychowania fizycznego dotyczą następujących aspektów:\\n# Postawy i motywacje – prosomatyczne i prospołeczne\\n# Wiedza i zrozumienie.\\n# Umiejętności doskonalenia i władania ciałem.\\n# Sprawność i kondycja fizyczna.'),\n",
      " ArticleSection(title='Wychowanie fizyczne w polskiej szkole', content='Lekcje wychowania fizycznego w szkole realizowane są w następującym wymiarze (tygodniowo):\\n# I etap edukacyjny (klasy I-III szkoły podstawowej) — 3 godziny lekcyjne\\n# II etap edukacyjny (klasy IV-VI szkoły podstawowej) — 4 godziny lekcyjne\\n# III etap edukacyjny (klasy VII-VIII) — 4 godziny lekcyjne\\n# IV etap edukacyjny (szkoła ponadpodstawowa) — 3 godziny lekcyjne\\nOd drugiego etapu edukacyjnego dzieci i młodzież mogą realizować wychowanie fizyczne w ramach zajęć klasowo-lekcyjnych i zajęć do wyboru. Zajęcia do wyboru (maksymalnie na 2 lekcjach wychowania fizycznego w tygodniu) są dla uczniów możliwością realizacji swoich zainteresowań daną formą aktywności fizycznej. Z zaproponowanej oferty przez szkołę (po diagnozie zainteresowań wśród uczniów) dzieci i młodzież mogą wybrać zajęcia o charakterze sportowym, tanecznym, aktywnej turystyki lub sprawnościowo-zdrowotnym.\\nPodczas zajęć klasowo-lekcyjnych uczniowie i nauczyciele realizują tzw. podstawę programową, czyli wymagania (jako treści) które należy osiągnąć podczas lekcji wychowania fizycznego na danym etapie edukacyjnym. Treści te dotyczą takich zagadnień, jak (istnieją różnice w zależności od etapu edukacyjnego):\\n# Diagnoza sprawności fizycznej i rozwoju fizycznego\\n# Trening zdrowotny\\n# Sporty całego życia i wypoczynek\\n# Bezpieczna aktywność fizyczna i higiena osobista\\n# Sport\\n# Taniec\\n# Edukacja zdrowotna\\nWychowanie fizyczne przygotowuje do całożyciowej troski o swoje ciało poprzez aktywność fizyczną, dbałość o swoją sprawność fizyczną i zdrowie. Podczas lekcji wychowania fizycznego uczeń winien pogłębiać wiedzę, nabywać umiejętności i rozwijać pożądane postawy (prosomatyczne, prozdrowotne i prospołeczne). Wychowanie fizyczne ma kierunek prozdrowotny.\\nSport w wychowaniu fizycznym jest jedynie środkiem do osiągania celów wychowania fizycznego. Osiągnięcia sportowe nie stanowią natomiast nadrzędnego celu w wychowaniu fizycznym.'),\n",
      " ArticleSection(title='Zobacz też', content='przystosowane wychowanie fizyczne\\n psychologia sportu\\n sprawność fizyczna\\n motoryczność\\n anatomia człowieka\\n fizjologia człowieka\\n dietetyka\\n medycyna sportowa'),\n",
      " ArticleSection(title='Linki zewnętrzne', content='[http://www.wychowaniefizyczne.pl/faq.html Wychowanie fizyczne w RP]\\n [http://orka.sejm.gov.pl/WydBAS.nsf/0/1AC45E6D5A1174FDC1257ED6003AC4CA/$file/Analiza_BAS_2015_132.pdf Dobromir Dziewulak Zwalnianie uczniów z lekcji wychowania fizycznego w szkołach w Polsce i wybranych krajach Europy], Biuro Analiz Sejmowych, Analizy BAS 12/2015')]\n"
     ]
    }
   ],
   "source": [
    "from embeddings_comparison.utils import wiki_parser\n",
    "from pprint import pprint\n",
    "\n",
    "pages = wiki_parser.extract_pages_from_file(\"data/Wikipedia-20241111162837.xml\")\n",
    "pprint(pages[2].sections)"
   ]
  },
  {
   "cell_type": "code",
   "execution_count": null,
   "metadata": {},
   "outputs": [],
   "source": []
  },
  {
   "cell_type": "code",
   "execution_count": null,
   "metadata": {},
   "outputs": [],
   "source": []
  }
 ],
 "metadata": {
  "kernelspec": {
   "display_name": "embeddings-comparison-JqTXriCt-py3.12",
   "language": "python",
   "name": "python3"
  },
  "language_info": {
   "codemirror_mode": {
    "name": "ipython",
    "version": 3
   },
   "file_extension": ".py",
   "mimetype": "text/x-python",
   "name": "python",
   "nbconvert_exporter": "python",
   "pygments_lexer": "ipython3",
   "version": "3.12.3"
  }
 },
 "nbformat": 4,
 "nbformat_minor": 2
}
