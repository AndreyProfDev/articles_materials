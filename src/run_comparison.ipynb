{
 "cells": [
  {
   "cell_type": "markdown",
   "metadata": {},
   "source": [
    "# Init Notebook"
   ]
  },
  {
   "cell_type": "code",
   "execution_count": 1,
   "metadata": {},
   "outputs": [
    {
     "name": "stderr",
     "output_type": "stream",
     "text": [
      "/home/pigaand/.cache/pypoetry/virtualenvs/embeddings-comparison-JqTXriCt-py3.12/lib/python3.12/site-packages/sentence_transformers/cross_encoder/CrossEncoder.py:13: TqdmExperimentalWarning: Using `tqdm.autonotebook.tqdm` in notebook mode. Use `tqdm.tqdm` instead to force console mode (e.g. in jupyter console)\n",
      "  from tqdm.autonotebook import tqdm, trange\n"
     ]
    }
   ],
   "source": [
    "# Import necessary libraries\n",
    "from dotenv import load_dotenv\n",
    "from openai import OpenAI\n",
    "import os\n",
    "from sentence_transformers import SentenceTransformer\n",
    "from tqdm.autonotebook import tqdm\n",
    "\n",
    "from embeddings_comparison.utils.llm_clients.cached_client import CachedLLMClient\n",
    "from embeddings_comparison.utils.llm_clients.open_ai_client import OPEN_AI_MODEL_NAME, OpenAIClient\n",
    "\n",
    "\n",
    "# Load environment variables from .env file\n",
    "load_dotenv()\n",
    "\n",
    "open_ai_key = os.environ[\"OPEN_AI_KEY\"]\n",
    "\n",
    "openai_client = OpenAIClient(api_key=open_ai_key, model_name=OPEN_AI_MODEL_NAME.GPT_4O)\n",
    "cached_client = CachedLLMClient(client=openai_client)"
   ]
  },
  {
   "cell_type": "markdown",
   "metadata": {},
   "source": [
    "# Data curation\n",
    "Downloading set of articles to be used for assessment"
   ]
  },
  {
   "cell_type": "code",
   "execution_count": 2,
   "metadata": {},
   "outputs": [],
   "source": [
    "from embeddings_comparison.utils import wiki_parser\n",
    "from pprint import pprint\n",
    "from embeddings_comparison.utils.storage import ArticleStorage\n",
    "\n",
    "storage = ArticleStorage()\n",
    "\n",
    "raw_pages = wiki_parser.extract_pages_from_file(\"data/Wikipedia-20241111162837.xml\")\n",
    "storage.save_articles(raw_pages)"
   ]
  },
  {
   "cell_type": "markdown",
   "metadata": {},
   "source": [
    "# Data filtering\n",
    "\n",
    "Remove sections that don't contain text or are not relevant"
   ]
  },
  {
   "cell_type": "code",
   "execution_count": 3,
   "metadata": {},
   "outputs": [
    {
     "data": {
      "text/html": [
       "<div>\n",
       "<style scoped>\n",
       "    .dataframe tbody tr th:only-of-type {\n",
       "        vertical-align: middle;\n",
       "    }\n",
       "\n",
       "    .dataframe tbody tr th {\n",
       "        vertical-align: top;\n",
       "    }\n",
       "\n",
       "    .dataframe thead th {\n",
       "        text-align: right;\n",
       "    }\n",
       "</style>\n",
       "<table border=\"1\" class=\"dataframe\">\n",
       "  <thead>\n",
       "    <tr style=\"text-align: right;\">\n",
       "      <th></th>\n",
       "      <th>Article Title</th>\n",
       "      <th>Section Title</th>\n",
       "      <th>Section Content</th>\n",
       "    </tr>\n",
       "  </thead>\n",
       "  <tbody>\n",
       "    <tr>\n",
       "      <th>4</th>\n",
       "      <td>Drużyna sportowa</td>\n",
       "      <td>Main</td>\n",
       "      <td>Drużyna sportowa – zespół składający się z okr...</td>\n",
       "    </tr>\n",
       "    <tr>\n",
       "      <th>8</th>\n",
       "      <td>ASInfo</td>\n",
       "      <td>Main</td>\n",
       "      <td>ASInfo – pierwsza w Polsce, sportowa agencja i...</td>\n",
       "    </tr>\n",
       "    <tr>\n",
       "      <th>11</th>\n",
       "      <td>Kategoria:Sport według państw</td>\n",
       "      <td>Main</td>\n",
       "      <td>Do kategorii dodano również zagadnienia dotycz...</td>\n",
       "    </tr>\n",
       "    <tr>\n",
       "      <th>13</th>\n",
       "      <td>Duchowość w sporcie</td>\n",
       "      <td>Duchowość a sport – badania</td>\n",
       "      <td>Na Muzułmańskim Uniwersytecie w Aligarh S. T. ...</td>\n",
       "    </tr>\n",
       "    <tr>\n",
       "      <th>14</th>\n",
       "      <td>Sport zawodowy</td>\n",
       "      <td>Main</td>\n",
       "      <td>Sport zawodowy – oznacza uprawianie sportu w t...</td>\n",
       "    </tr>\n",
       "    <tr>\n",
       "      <th>15</th>\n",
       "      <td>Sport</td>\n",
       "      <td>Main</td>\n",
       "      <td>Sport – wszelkie formy aktywności fizycznej, k...</td>\n",
       "    </tr>\n",
       "    <tr>\n",
       "      <th>18</th>\n",
       "      <td>Kategoria:Jazda na rowerze</td>\n",
       "      <td>Main</td>\n",
       "      <td>Jazda rowerem to sposób transportu, rekreacji,...</td>\n",
       "    </tr>\n",
       "  </tbody>\n",
       "</table>\n",
       "</div>"
      ],
      "text/plain": [
       "                    Article Title                Section Title  \\\n",
       "4                Drużyna sportowa                         Main   \n",
       "8                          ASInfo                         Main   \n",
       "11  Kategoria:Sport według państw                         Main   \n",
       "13            Duchowość w sporcie  Duchowość a sport – badania   \n",
       "14                 Sport zawodowy                         Main   \n",
       "15                          Sport                         Main   \n",
       "18     Kategoria:Jazda na rowerze                         Main   \n",
       "\n",
       "                                      Section Content  \n",
       "4   Drużyna sportowa – zespół składający się z okr...  \n",
       "8   ASInfo – pierwsza w Polsce, sportowa agencja i...  \n",
       "11  Do kategorii dodano również zagadnienia dotycz...  \n",
       "13  Na Muzułmańskim Uniwersytecie w Aligarh S. T. ...  \n",
       "14  Sport zawodowy – oznacza uprawianie sportu w t...  \n",
       "15  Sport – wszelkie formy aktywności fizycznej, k...  \n",
       "18  Jazda rowerem to sposób transportu, rekreacji,...  "
      ]
     },
     "execution_count": 3,
     "metadata": {},
     "output_type": "execute_result"
    }
   ],
   "source": [
    "pages_df = storage.load_all()\n",
    "pages_df = pages_df[pages_df['Section Title'] != 'Linki zewnętrzne']\n",
    "pages_df = pages_df[pages_df['Section Title'] != 'Zobacz też']\n",
    "pages_df = pages_df[pages_df['Section Title'] != 'Bibliografia']\n",
    "pages_df"
   ]
  },
  {
   "cell_type": "markdown",
   "metadata": {},
   "source": [
    "# Augment data"
   ]
  },
  {
   "cell_type": "code",
   "execution_count": 4,
   "metadata": {},
   "outputs": [
    {
     "data": {
      "application/vnd.jupyter.widget-view+json": {
       "model_id": "a348566bd23146c9883b78ca62aa8801",
       "version_major": 2,
       "version_minor": 0
      },
      "text/plain": [
       "  0%|          | 0/7 [00:00<?, ?it/s]"
      ]
     },
     "metadata": {},
     "output_type": "display_data"
    }
   ],
   "source": [
    "from embeddings_comparison.utils.question_generation import BASE_PROMT_PL, generate_question_for_text\n",
    "from tqdm.autonotebook import tqdm\n",
    "\n",
    "pbar = tqdm(total=len(pages_df))\n",
    "questions_column = []\n",
    "for _, row in pages_df.iterrows():\n",
    "    pbar.set_description(f\"Generating questions for {row['Section Title']}\")\n",
    "    questions = generate_question_for_text(cached_client, row['Section Content'], BASE_PROMT_PL)\n",
    "    questions_column.append(questions.questions)\n",
    "    pbar.update(1)\n",
    "\n",
    "pages_df['questions'] = questions_column"
   ]
  },
  {
   "cell_type": "markdown",
   "metadata": {},
   "source": [
    "# Data Ingestion"
   ]
  },
  {
   "cell_type": "code",
   "execution_count": 5,
   "metadata": {},
   "outputs": [
    {
     "data": {
      "application/vnd.jupyter.widget-view+json": {
       "model_id": "0c285c134d1a4e7cb66f6fd13b6a0897",
       "version_major": 2,
       "version_minor": 0
      },
      "text/plain": [
       "Testing Embedding models:   0%|          | 0/4 [00:00<?, ?it/s]"
      ]
     },
     "metadata": {},
     "output_type": "display_data"
    }
   ],
   "source": [
    "from embeddings_comparison.utils.embedding_models.caching import CachedEmbeddingModel\n",
    "from embeddings_comparison.utils.embedding_models.hugging_face import HF_EMBEDDING_MODEL_NAME, HFEmbeddingModel\n",
    "from embeddings_comparison.utils.embedding_models.open_ai import OPENAI_EMBEDDING_MODEL_NAME, OpenAIEmbeddingModel\n",
    "from embeddings_comparison.utils.vectordb.vectordb import VectorDB, VectorIndex\n",
    "from tqdm.autonotebook import tqdm\n",
    "\n",
    "vector_db = VectorDB()\n",
    "vector_db.add_index(f\"OPENAI_SMALL\", CachedEmbeddingModel(OpenAIEmbeddingModel(api_key=open_ai_key, model=OPENAI_EMBEDDING_MODEL_NAME.TEXT_EMBEDDING_3_SMALL)))\n",
    "vector_db.add_index(f\"OPENAI_LARGE\", CachedEmbeddingModel(OpenAIEmbeddingModel(api_key=open_ai_key, model=OPENAI_EMBEDDING_MODEL_NAME.TEXT_EMBEDDING_3_LARGE)))\n",
    "vector_db.add_index(f\"OPENAI__ADA\", CachedEmbeddingModel(OpenAIEmbeddingModel(api_key=open_ai_key, model=OPENAI_EMBEDDING_MODEL_NAME.TEXT_EMBEDDING_ADA_002)))\n",
    "vector_db.add_index(\"HF_SDADAS\", CachedEmbeddingModel(HFEmbeddingModel(model_name=HF_EMBEDDING_MODEL_NAME.ST_POLISH_PARAPHRASE_FROM_DISTILROBERTA)))\n",
    "\n",
    "for index_name in tqdm(vector_db.list_indices(), desc='Testing Embedding models'):\n",
    "    vector_db.insert_texts(pages_df['Section Content'].values.tolist(), index_name)"
   ]
  },
  {
   "cell_type": "markdown",
   "metadata": {},
   "source": [
    "# Perform the experiment"
   ]
  },
  {
   "cell_type": "code",
   "execution_count": 6,
   "metadata": {},
   "outputs": [
    {
     "data": {
      "application/vnd.jupyter.widget-view+json": {
       "model_id": "5f9e295db45446f08bc95507182a6ad5",
       "version_major": 2,
       "version_minor": 0
      },
      "text/plain": [
       "  0%|          | 0/4 [00:00<?, ?it/s]"
      ]
     },
     "metadata": {},
     "output_type": "display_data"
    },
    {
     "data": {
      "application/vnd.jupyter.widget-view+json": {
       "model_id": "ce7721d9cdf748a7abbe50d61db7d0d4",
       "version_major": 2,
       "version_minor": 0
      },
      "text/plain": [
       "Testing rows for OPENAI_SMALL: 0it [00:00, ?it/s]"
      ]
     },
     "metadata": {},
     "output_type": "display_data"
    },
    {
     "data": {
      "application/vnd.jupyter.widget-view+json": {
       "model_id": "3775a827404344cca27e33ccddf76293",
       "version_major": 2,
       "version_minor": 0
      },
      "text/plain": [
       "Testing rows for OPENAI_LARGE: 0it [00:00, ?it/s]"
      ]
     },
     "metadata": {},
     "output_type": "display_data"
    },
    {
     "data": {
      "application/vnd.jupyter.widget-view+json": {
       "model_id": "da6330e328b3448b9a5274b2ce64adcd",
       "version_major": 2,
       "version_minor": 0
      },
      "text/plain": [
       "Testing rows for OPENAI__ADA: 0it [00:00, ?it/s]"
      ]
     },
     "metadata": {},
     "output_type": "display_data"
    },
    {
     "data": {
      "application/vnd.jupyter.widget-view+json": {
       "model_id": "2cabc00c47484363a0f01f8167289c08",
       "version_major": 2,
       "version_minor": 0
      },
      "text/plain": [
       "Testing rows for HF_SDADAS: 0it [00:00, ?it/s]"
      ]
     },
     "metadata": {},
     "output_type": "display_data"
    }
   ],
   "source": [
    "from tqdm.autonotebook import tqdm\n",
    "\n",
    "pbar = tqdm(total=len(vector_db.list_indices()))\n",
    "pbar.update(1)\n",
    "for index_name in vector_db.list_indices():\n",
    "    pbar.set_description(f\"Testing {index_name}\")\n",
    "    identified_matches = []\n",
    "    for _, row in tqdm(pages_df.iterrows(), desc=f\"Testing rows for {index_name}\"):\n",
    "        matched_with_answer = 0\n",
    "        for question in row['questions']:\n",
    "            found_text = vector_db.find_text(text=question, top_k=1, index_name=index_name)[0]\n",
    "\n",
    "            if found_text == row['Section Content']:\n",
    "                matched_with_answer += 1\n",
    "        identified_matches.append(matched_with_answer)\n",
    "    pages_df[index_name] = identified_matches\n",
    "    pbar.update(1)"
   ]
  },
  {
   "cell_type": "code",
   "execution_count": 7,
   "metadata": {},
   "outputs": [
    {
     "data": {
      "text/html": [
       "<div>\n",
       "<style scoped>\n",
       "    .dataframe tbody tr th:only-of-type {\n",
       "        vertical-align: middle;\n",
       "    }\n",
       "\n",
       "    .dataframe tbody tr th {\n",
       "        vertical-align: top;\n",
       "    }\n",
       "\n",
       "    .dataframe thead th {\n",
       "        text-align: right;\n",
       "    }\n",
       "</style>\n",
       "<table border=\"1\" class=\"dataframe\">\n",
       "  <thead>\n",
       "    <tr style=\"text-align: right;\">\n",
       "      <th></th>\n",
       "      <th>Article Title</th>\n",
       "      <th>Section Title</th>\n",
       "      <th>Section Content</th>\n",
       "      <th>questions</th>\n",
       "      <th>OPENAI_SMALL</th>\n",
       "      <th>OPENAI_LARGE</th>\n",
       "      <th>OPENAI__ADA</th>\n",
       "      <th>HF_SDADAS</th>\n",
       "    </tr>\n",
       "  </thead>\n",
       "  <tbody>\n",
       "    <tr>\n",
       "      <th>4</th>\n",
       "      <td>Drużyna sportowa</td>\n",
       "      <td>Main</td>\n",
       "      <td>Drużyna sportowa – zespół składający się z okr...</td>\n",
       "      <td>[Jak zdefiniować drużynę sportową?, Z jakiej l...</td>\n",
       "      <td>5</td>\n",
       "      <td>5</td>\n",
       "      <td>5</td>\n",
       "      <td>5</td>\n",
       "    </tr>\n",
       "    <tr>\n",
       "      <th>8</th>\n",
       "      <td>ASInfo</td>\n",
       "      <td>Main</td>\n",
       "      <td>ASInfo – pierwsza w Polsce, sportowa agencja i...</td>\n",
       "      <td>[Kto założył pierwszą w Polsce sportową agencj...</td>\n",
       "      <td>5</td>\n",
       "      <td>5</td>\n",
       "      <td>5</td>\n",
       "      <td>5</td>\n",
       "    </tr>\n",
       "    <tr>\n",
       "      <th>11</th>\n",
       "      <td>Kategoria:Sport według państw</td>\n",
       "      <td>Main</td>\n",
       "      <td>Do kategorii dodano również zagadnienia dotycz...</td>\n",
       "      <td>[Jakie nowe zagadnienia dodano do kategorii?, ...</td>\n",
       "      <td>4</td>\n",
       "      <td>5</td>\n",
       "      <td>5</td>\n",
       "      <td>5</td>\n",
       "    </tr>\n",
       "    <tr>\n",
       "      <th>13</th>\n",
       "      <td>Duchowość w sporcie</td>\n",
       "      <td>Duchowość a sport – badania</td>\n",
       "      <td>Na Muzułmańskim Uniwersytecie w Aligarh S. T. ...</td>\n",
       "      <td>[Jakie badanie przeprowadzono na Muzułmańskim ...</td>\n",
       "      <td>5</td>\n",
       "      <td>5</td>\n",
       "      <td>5</td>\n",
       "      <td>5</td>\n",
       "    </tr>\n",
       "    <tr>\n",
       "      <th>14</th>\n",
       "      <td>Sport zawodowy</td>\n",
       "      <td>Main</td>\n",
       "      <td>Sport zawodowy – oznacza uprawianie sportu w t...</td>\n",
       "      <td>[Jakie są kryteria kwalifikowania sportu jako ...</td>\n",
       "      <td>4</td>\n",
       "      <td>5</td>\n",
       "      <td>5</td>\n",
       "      <td>5</td>\n",
       "    </tr>\n",
       "    <tr>\n",
       "      <th>15</th>\n",
       "      <td>Sport</td>\n",
       "      <td>Main</td>\n",
       "      <td>Sport – wszelkie formy aktywności fizycznej, k...</td>\n",
       "      <td>[Jakie są różne formy aktywności uważane za sp...</td>\n",
       "      <td>5</td>\n",
       "      <td>5</td>\n",
       "      <td>4</td>\n",
       "      <td>5</td>\n",
       "    </tr>\n",
       "    <tr>\n",
       "      <th>18</th>\n",
       "      <td>Kategoria:Jazda na rowerze</td>\n",
       "      <td>Main</td>\n",
       "      <td>Jazda rowerem to sposób transportu, rekreacji,...</td>\n",
       "      <td>[Jakie rodzaje rowerów są uwzględnione w jeźdz...</td>\n",
       "      <td>5</td>\n",
       "      <td>5</td>\n",
       "      <td>5</td>\n",
       "      <td>5</td>\n",
       "    </tr>\n",
       "  </tbody>\n",
       "</table>\n",
       "</div>"
      ],
      "text/plain": [
       "                    Article Title                Section Title  \\\n",
       "4                Drużyna sportowa                         Main   \n",
       "8                          ASInfo                         Main   \n",
       "11  Kategoria:Sport według państw                         Main   \n",
       "13            Duchowość w sporcie  Duchowość a sport – badania   \n",
       "14                 Sport zawodowy                         Main   \n",
       "15                          Sport                         Main   \n",
       "18     Kategoria:Jazda na rowerze                         Main   \n",
       "\n",
       "                                      Section Content  \\\n",
       "4   Drużyna sportowa – zespół składający się z okr...   \n",
       "8   ASInfo – pierwsza w Polsce, sportowa agencja i...   \n",
       "11  Do kategorii dodano również zagadnienia dotycz...   \n",
       "13  Na Muzułmańskim Uniwersytecie w Aligarh S. T. ...   \n",
       "14  Sport zawodowy – oznacza uprawianie sportu w t...   \n",
       "15  Sport – wszelkie formy aktywności fizycznej, k...   \n",
       "18  Jazda rowerem to sposób transportu, rekreacji,...   \n",
       "\n",
       "                                            questions  OPENAI_SMALL  \\\n",
       "4   [Jak zdefiniować drużynę sportową?, Z jakiej l...             5   \n",
       "8   [Kto założył pierwszą w Polsce sportową agencj...             5   \n",
       "11  [Jakie nowe zagadnienia dodano do kategorii?, ...             4   \n",
       "13  [Jakie badanie przeprowadzono na Muzułmańskim ...             5   \n",
       "14  [Jakie są kryteria kwalifikowania sportu jako ...             4   \n",
       "15  [Jakie są różne formy aktywności uważane za sp...             5   \n",
       "18  [Jakie rodzaje rowerów są uwzględnione w jeźdz...             5   \n",
       "\n",
       "    OPENAI_LARGE  OPENAI__ADA  HF_SDADAS  \n",
       "4              5            5          5  \n",
       "8              5            5          5  \n",
       "11             5            5          5  \n",
       "13             5            5          5  \n",
       "14             5            5          5  \n",
       "15             5            4          5  \n",
       "18             5            5          5  "
      ]
     },
     "execution_count": 7,
     "metadata": {},
     "output_type": "execute_result"
    }
   ],
   "source": [
    "pages_df"
   ]
  },
  {
   "cell_type": "code",
   "execution_count": null,
   "metadata": {},
   "outputs": [],
   "source": []
  }
 ],
 "metadata": {
  "kernelspec": {
   "display_name": "embeddings-comparison-JqTXriCt-py3.12",
   "language": "python",
   "name": "python3"
  },
  "language_info": {
   "codemirror_mode": {
    "name": "ipython",
    "version": 3
   },
   "file_extension": ".py",
   "mimetype": "text/x-python",
   "name": "python",
   "nbconvert_exporter": "python",
   "pygments_lexer": "ipython3",
   "version": "3.12.3"
  }
 },
 "nbformat": 4,
 "nbformat_minor": 2
}
