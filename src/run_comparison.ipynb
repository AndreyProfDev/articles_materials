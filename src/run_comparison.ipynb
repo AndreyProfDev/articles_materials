{
 "cells": [
  {
   "cell_type": "markdown",
   "metadata": {},
   "source": [
    "# Init Notebook\n",
    "\n",
    "- Define necessary imports\n",
    "- Initialise logging\n",
    "- Initialize environment variables"
   ]
  },
  {
   "cell_type": "code",
   "execution_count": 54,
   "metadata": {},
   "outputs": [
    {
     "name": "stderr",
     "output_type": "stream",
     "text": [
      "INFO:root:Logging initiated\n"
     ]
    }
   ],
   "source": [
    "\n",
    "from dotenv import load_dotenv\n",
    "from openai import OpenAI\n",
    "import os\n",
    "from sentence_transformers import SentenceTransformer\n",
    "from tqdm.autonotebook import tqdm\n",
    "import matplotlib\n",
    "import matplotlib.pyplot as plt\n",
    "import logging\n",
    "from tqdm.autonotebook import tqdm\n",
    "import pandas as pd\n",
    "\n",
    "# Load environment variables from .env file\n",
    "load_dotenv()\n",
    "\n",
    "# Set up logging\n",
    "logging.basicConfig(level=logging.INFO)\n",
    "logging.getLogger().setLevel(logging.INFO)\n",
    "\n",
    "logging.info(\"Logging initiated\")\n",
    "\n",
    "# Set up OpenAI API\n",
    "open_ai_key = os.environ[\"OPEN_AI_KEY\"]\n",
    "\n",
    "# Define whether to use cached data\n",
    "use_cache = False"
   ]
  },
  {
   "cell_type": "markdown",
   "metadata": {},
   "source": [
    "# Initialize Open AI client\n",
    "\n",
    "Open AI client will be used to augment wiki data with generated question"
   ]
  },
  {
   "cell_type": "code",
   "execution_count": 38,
   "metadata": {},
   "outputs": [],
   "source": [
    "from utils.llm_clients.cached_client import CachedLLMClient\n",
    "from utils.llm_clients.cost_monitoring import LLMClientWithCostMonitoring\n",
    "from utils.llm_clients.providers.open_ai_client import OpenAIClient\n",
    "from utils.llm_clients.providers import supported_models\n",
    "\n",
    "openai_client = OpenAIClient(api_key=open_ai_key, model_info=supported_models.GPT_4O)\n",
    "openai_client = CachedLLMClient(client=openai_client)\n",
    "openai_client = LLMClientWithCostMonitoring(client=openai_client)"
   ]
  },
  {
   "cell_type": "markdown",
   "metadata": {},
   "source": [
    "# Data curation\n",
    "Downloading set of articles to be used for the assessment"
   ]
  },
  {
   "cell_type": "code",
   "execution_count": 42,
   "metadata": {},
   "outputs": [
    {
     "data": {
      "application/vnd.jupyter.widget-view+json": {
       "model_id": "a32166ae9a534e17814b5ad4a932a059",
       "version_major": 2,
       "version_minor": 0
      },
      "text/plain": [
       "  0%|          | 0/23 [00:00<?, ?it/s]"
      ]
     },
     "metadata": {},
     "output_type": "display_data"
    }
   ],
   "source": [
    "from pathlib import Path\n",
    "import utils.wiki_parser.wiki_parser as wiki_parser\n",
    "from pprint import pprint\n",
    "from utils.storage import ArticleStorage\n",
    "import os\n",
    "\n",
    "storage = ArticleStorage()\n",
    "\n",
    "data_files = os.listdir(\"data\")\n",
    "pbar = tqdm(total = len(data_files))\n",
    "for filename in os.listdir(\"data\"):\n",
    "    pbar.set_description(f'Processing {filename}')\n",
    "    if filename.endswith(\".xml\"):\n",
    "        raw_pages = wiki_parser.extract_articles_from_file(\"data/\" + filename, output_folder=Path(\"data\"))\n",
    "        storage.save_articles(raw_pages)\n",
    "    pbar.update(1)\n",
    "\n",
    "pages_df = storage.load_all()"
   ]
  },
  {
   "cell_type": "markdown",
   "metadata": {},
   "source": [
    "# Data filtering\n",
    "\n",
    "Remove sections that don't contain text or are not relevant"
   ]
  },
  {
   "cell_type": "code",
   "execution_count": 43,
   "metadata": {},
   "outputs": [
    {
     "data": {
      "text/html": [
       "<div>\n",
       "<style scoped>\n",
       "    .dataframe tbody tr th:only-of-type {\n",
       "        vertical-align: middle;\n",
       "    }\n",
       "\n",
       "    .dataframe tbody tr th {\n",
       "        vertical-align: top;\n",
       "    }\n",
       "\n",
       "    .dataframe thead th {\n",
       "        text-align: right;\n",
       "    }\n",
       "</style>\n",
       "<table border=\"1\" class=\"dataframe\">\n",
       "  <thead>\n",
       "    <tr style=\"text-align: right;\">\n",
       "      <th></th>\n",
       "      <th>Article Title</th>\n",
       "      <th>Section Title</th>\n",
       "      <th>Section Content</th>\n",
       "      <th>Section With Context</th>\n",
       "    </tr>\n",
       "  </thead>\n",
       "  <tbody>\n",
       "    <tr>\n",
       "      <th>0</th>\n",
       "      <td>Protohistoria</td>\n",
       "      <td>Main</td>\n",
       "      <td>Protohistoria – termin określający dzieje społ...</td>\n",
       "      <td>Protohistoria\\nProtohistoria – termin określaj...</td>\n",
       "    </tr>\n",
       "    <tr>\n",
       "      <th>1</th>\n",
       "      <td>Polityka historyczna</td>\n",
       "      <td>Main</td>\n",
       "      <td>Polityka historyczna () lub polityka pamięci –...</td>\n",
       "      <td>Polityka historyczna\\nPolityka historyczna () ...</td>\n",
       "    </tr>\n",
       "    <tr>\n",
       "      <th>2</th>\n",
       "      <td>Polityka historyczna</td>\n",
       "      <td>Geneza pojęcia</td>\n",
       "      <td>Polityka historyczna wynika z potrzeby mitolog...</td>\n",
       "      <td>Polityka historyczna\\nGeneza pojęcia\\nPolityka...</td>\n",
       "    </tr>\n",
       "    <tr>\n",
       "      <th>3</th>\n",
       "      <td>Polityka historyczna</td>\n",
       "      <td>Narzędzia polityki historycznej</td>\n",
       "      <td>Narzędziami polityki historycznej są finansowa...</td>\n",
       "      <td>Polityka historyczna\\nNarzędzia polityki histo...</td>\n",
       "    </tr>\n",
       "    <tr>\n",
       "      <th>4</th>\n",
       "      <td>Polityka historyczna</td>\n",
       "      <td>Zagadnienie polityki historycznej w Polsce</td>\n",
       "      <td>Także po okresie PRL, kiedy to wdrażano stosow...</td>\n",
       "      <td>Polityka historyczna\\nZagadnienie polityki his...</td>\n",
       "    </tr>\n",
       "  </tbody>\n",
       "</table>\n",
       "</div>"
      ],
      "text/plain": [
       "          Article Title                               Section Title  \\\n",
       "0         Protohistoria                                        Main   \n",
       "1  Polityka historyczna                                        Main   \n",
       "2  Polityka historyczna                              Geneza pojęcia   \n",
       "3  Polityka historyczna             Narzędzia polityki historycznej   \n",
       "4  Polityka historyczna  Zagadnienie polityki historycznej w Polsce   \n",
       "\n",
       "                                     Section Content  \\\n",
       "0  Protohistoria – termin określający dzieje społ...   \n",
       "1  Polityka historyczna () lub polityka pamięci –...   \n",
       "2  Polityka historyczna wynika z potrzeby mitolog...   \n",
       "3  Narzędziami polityki historycznej są finansowa...   \n",
       "4  Także po okresie PRL, kiedy to wdrażano stosow...   \n",
       "\n",
       "                                Section With Context  \n",
       "0  Protohistoria\\nProtohistoria – termin określaj...  \n",
       "1  Polityka historyczna\\nPolityka historyczna () ...  \n",
       "2  Polityka historyczna\\nGeneza pojęcia\\nPolityka...  \n",
       "3  Polityka historyczna\\nNarzędzia polityki histo...  \n",
       "4  Polityka historyczna\\nZagadnienie polityki his...  "
      ]
     },
     "execution_count": 43,
     "metadata": {},
     "output_type": "execute_result"
    }
   ],
   "source": [
    "pages_df = storage.load_all()\n",
    "pages_df = pages_df[pages_df['Section Title'] != 'Linki zewnętrzne']\n",
    "pages_df = pages_df[pages_df['Section Title'] != 'Zobacz też']\n",
    "pages_df = pages_df[pages_df['Section Title'] != 'Bibliografia']\n",
    "pages_df = pages_df[pages_df['Section Title'] != 'Przypisy']\n",
    "pages_df = pages_df.drop_duplicates()\n",
    "pages_df = pages_df.reset_index(drop=True)\n",
    "pages_df['Section With Context'] = pages_df['Article Title'] + '\\n' + pages_df['Section Title'] + '\\n' + pages_df['Section Content']\n",
    "pages_df.loc[pages_df['Section Title'] == 'Main', 'Section With Context'] = pages_df['Article Title'] + '\\n' + pages_df['Section Content']\n",
    "pages_df.head()"
   ]
  },
  {
   "cell_type": "markdown",
   "metadata": {},
   "source": [
    "# Data Augmentation"
   ]
  },
  {
   "cell_type": "code",
   "execution_count": 44,
   "metadata": {},
   "outputs": [
    {
     "data": {
      "application/vnd.jupyter.widget-view+json": {
       "model_id": "a65b0e2abdde49d6bd15f98f89ca2b1e",
       "version_major": 2,
       "version_minor": 0
      },
      "text/plain": [
       "  0%|          | 0/1653 [00:00<?, ?it/s]"
      ]
     },
     "metadata": {},
     "output_type": "display_data"
    },
    {
     "data": {
      "application/vnd.jupyter.widget-view+json": {
       "model_id": "e35d50a7cb714adfa7ab2de228a15002",
       "version_major": 2,
       "version_minor": 0
      },
      "text/plain": [
       "Promt cost ($): : 0it [00:00, ?it/s]"
      ]
     },
     "metadata": {},
     "output_type": "display_data"
    },
    {
     "data": {
      "application/vnd.jupyter.widget-view+json": {
       "model_id": "894f6927a80342c9a4d12bb58ec0b83c",
       "version_major": 2,
       "version_minor": 0
      },
      "text/plain": [
       "Completions cost ($):: 0it [00:00, ?it/s]"
      ]
     },
     "metadata": {},
     "output_type": "display_data"
    }
   ],
   "source": [
    "from utils.question_generation import BASE_PROMT_PL, generate_question_for_text\n",
    "from tqdm.auto import tqdm\n",
    "from time import sleep\n",
    "\n",
    "logging.getLogger(\"httpx\").setLevel(logging.WARNING)\n",
    "\n",
    "pbar = tqdm(total=len(pages_df))\n",
    "questions_column = []\n",
    "\n",
    "promt_tokens_bar = tqdm(desc=\"Promt cost ($): \")\n",
    "completions_tokens_bar = tqdm(desc=\"Completions cost ($):\")\n",
    "\n",
    "for _, row in pages_df.iterrows():\n",
    "    pbar.set_description(f\"Generating questions for {row['Article Title']}/{row['Section Title']}\")\n",
    "    questions = generate_question_for_text(openai_client, row['Section With Context'], BASE_PROMT_PL)\n",
    "    questions_column.append(questions.questions)\n",
    "    pbar.update(1)\n",
    "    promt_tokens_bar.update(openai_client.get_total_promt_cost() - promt_tokens_bar.n)\n",
    "    completions_tokens_bar.update(openai_client.get_total_completion_cost() - completions_tokens_bar.n)\n",
    "\n",
    "pages_df['questions'] = questions_column"
   ]
  },
  {
   "cell_type": "markdown",
   "metadata": {},
   "source": [
    "# Data Ingestion"
   ]
  },
  {
   "cell_type": "markdown",
   "metadata": {},
   "source": [
    "## Ingestion of data into the database"
   ]
  },
  {
   "cell_type": "code",
   "execution_count": 48,
   "metadata": {},
   "outputs": [
    {
     "name": "stderr",
     "output_type": "stream",
     "text": [
      "INFO:sentence_transformers.SentenceTransformer:Use pytorch device_name: cuda\n",
      "INFO:sentence_transformers.SentenceTransformer:Load pretrained SentenceTransformer: sdadas/st-polish-paraphrase-from-distilroberta\n"
     ]
    },
    {
     "name": "stderr",
     "output_type": "stream",
     "text": [
      "INFO:sentence_transformers.SentenceTransformer:Use pytorch device_name: cuda\n",
      "INFO:sentence_transformers.SentenceTransformer:Load pretrained SentenceTransformer: sdadas/st-polish-paraphrase-from-mpnet\n",
      "INFO:sentence_transformers.SentenceTransformer:Use pytorch device_name: cuda\n",
      "INFO:sentence_transformers.SentenceTransformer:Load pretrained SentenceTransformer: OrlikB/st-polish-kartonberta-base-alpha-v1\n"
     ]
    },
    {
     "data": {
      "application/vnd.jupyter.widget-view+json": {
       "model_id": "e4caf756d694498cb98f9b9904a5d3ac",
       "version_major": 2,
       "version_minor": 0
      },
      "text/plain": [
       "HF_SDADAS. Total cost ($): 0it [00:00, ?it/s]"
      ]
     },
     "metadata": {},
     "output_type": "display_data"
    },
    {
     "data": {
      "application/vnd.jupyter.widget-view+json": {
       "model_id": "8d59a8b7ae194713b8573d679ed02126",
       "version_major": 2,
       "version_minor": 0
      },
      "text/plain": [
       "HF_SDADAS. Processed items:   0%|          | 0/1653 [00:00<?, ?it/s]"
      ]
     },
     "metadata": {},
     "output_type": "display_data"
    },
    {
     "data": {
      "application/vnd.jupyter.widget-view+json": {
       "model_id": "90c170c24eca4424bafe496e787affa2",
       "version_major": 2,
       "version_minor": 0
      },
      "text/plain": [
       "OPENAI_SMALL. Total cost ($): 0it [00:00, ?it/s]"
      ]
     },
     "metadata": {},
     "output_type": "display_data"
    },
    {
     "data": {
      "application/vnd.jupyter.widget-view+json": {
       "model_id": "342e380da1654173b445417cd77a6097",
       "version_major": 2,
       "version_minor": 0
      },
      "text/plain": [
       "OPENAI_SMALL. Processed items:   0%|          | 0/1653 [00:00<?, ?it/s]"
      ]
     },
     "metadata": {},
     "output_type": "display_data"
    },
    {
     "data": {
      "application/vnd.jupyter.widget-view+json": {
       "model_id": "b0f83cf48c7d46c19499a4d50b231d6b",
       "version_major": 2,
       "version_minor": 0
      },
      "text/plain": [
       "OPENAI_LARGE. Total cost ($): 0it [00:00, ?it/s]"
      ]
     },
     "metadata": {},
     "output_type": "display_data"
    },
    {
     "data": {
      "application/vnd.jupyter.widget-view+json": {
       "model_id": "6a75930ccc834cd09d1327bb3a300e21",
       "version_major": 2,
       "version_minor": 0
      },
      "text/plain": [
       "OPENAI_LARGE. Processed items:   0%|          | 0/1653 [00:00<?, ?it/s]"
      ]
     },
     "metadata": {},
     "output_type": "display_data"
    },
    {
     "data": {
      "application/vnd.jupyter.widget-view+json": {
       "model_id": "1e1597cd78994c14ad88f631f21125c3",
       "version_major": 2,
       "version_minor": 0
      },
      "text/plain": [
       "OPENAI__ADA. Total cost ($): 0it [00:00, ?it/s]"
      ]
     },
     "metadata": {},
     "output_type": "display_data"
    },
    {
     "data": {
      "application/vnd.jupyter.widget-view+json": {
       "model_id": "da3cfc73b3a54a269ccda649aacb1656",
       "version_major": 2,
       "version_minor": 0
      },
      "text/plain": [
       "OPENAI__ADA. Processed items:   0%|          | 0/1653 [00:00<?, ?it/s]"
      ]
     },
     "metadata": {},
     "output_type": "display_data"
    },
    {
     "data": {
      "application/vnd.jupyter.widget-view+json": {
       "model_id": "5615f7affa58471bab000030fbdad942",
       "version_major": 2,
       "version_minor": 0
      },
      "text/plain": [
       "HF_MPNET. Total cost ($): 0it [00:00, ?it/s]"
      ]
     },
     "metadata": {},
     "output_type": "display_data"
    },
    {
     "data": {
      "application/vnd.jupyter.widget-view+json": {
       "model_id": "3557d2bd574b4cd9a7044fa15f2f1678",
       "version_major": 2,
       "version_minor": 0
      },
      "text/plain": [
       "HF_MPNET. Processed items:   0%|          | 0/1653 [00:00<?, ?it/s]"
      ]
     },
     "metadata": {},
     "output_type": "display_data"
    },
    {
     "data": {
      "application/vnd.jupyter.widget-view+json": {
       "model_id": "70e86f5bb366460a8266fa6968400280",
       "version_major": 2,
       "version_minor": 0
      },
      "text/plain": [
       "HF_KARTONBERTA. Total cost ($): 0it [00:00, ?it/s]"
      ]
     },
     "metadata": {},
     "output_type": "display_data"
    },
    {
     "data": {
      "application/vnd.jupyter.widget-view+json": {
       "model_id": "1f0d62801cfa48b69fe4e14aeee63c99",
       "version_major": 2,
       "version_minor": 0
      },
      "text/plain": [
       "HF_KARTONBERTA. Processed items:   0%|          | 0/1653 [00:00<?, ?it/s]"
      ]
     },
     "metadata": {},
     "output_type": "display_data"
    }
   ],
   "source": [
    "from utils.embedding_models.providers import hugging_face\n",
    "from utils.embedding_models.providers import open_ai\n",
    "from utils.embedding_models.providers import supported_models\n",
    "from utils.vectordb.vectordb import VectorDB\n",
    "\n",
    "logging.getLogger(\"httpx\").setLevel(logging.WARNING)\n",
    "\n",
    "# Define embedding models\n",
    "embedding_models = {\n",
    "    \"HF_SDADAS\": hugging_face.init_model(model_info=supported_models.ST_POLISH_PARAPHRASE_FROM_DISTILROBERTA),\n",
    "    \"OPENAI_SMALL\": open_ai.init_model(api_key=open_ai_key, model_info=supported_models.TEXT_EMBEDDING_3_SMALL),\n",
    "    \"OPENAI_LARGE\": open_ai.init_model(api_key=open_ai_key, model_info=supported_models.TEXT_EMBEDDING_3_LARGE),\n",
    "    \"OPENAI__ADA\": open_ai.init_model(api_key=open_ai_key, model_info=supported_models.TEXT_EMBEDDING_ADA_002),\n",
    "    \"HF_MPNET\": hugging_face.init_model(model_info=supported_models.ST_POLISH_PARAPHRASE_FROM_MPNET),\n",
    "    \"HF_KARTONBERTA\": hugging_face.init_model(model_info=supported_models.ORB_ST_POLISH_KARTONBERTA_BASE_ALPHA_V1),\n",
    "}\n",
    "\n",
    "# Initialize vector database and add indices (one per each embedding model)\n",
    "vector_db = VectorDB()\n",
    "for index_name, index in embedding_models.items():\n",
    "    vector_db.add_index(index_name, index)\n",
    "\n",
    "# Populate each index with data\n",
    "sections = pages_df['Section With Context'].values.tolist()\n",
    "for index_name in vector_db.list_indices():\n",
    "    cost_bar = tqdm(desc=f'{index_name}. Total cost ($)')\n",
    "    model = embedding_models[index_name]\n",
    "    for text in tqdm(sections, desc=f'{index_name}. Processed items'):\n",
    "        vector_db.insert_text(text, index_name)\n",
    "        cost_bar.update(model.get_total_cost() - cost_bar.n)"
   ]
  },
  {
   "cell_type": "markdown",
   "metadata": {},
   "source": [
    "## Ingestion cost"
   ]
  },
  {
   "cell_type": "code",
   "execution_count": 49,
   "metadata": {},
   "outputs": [
    {
     "data": {
      "text/html": [
       "<div>\n",
       "<style scoped>\n",
       "    .dataframe tbody tr th:only-of-type {\n",
       "        vertical-align: middle;\n",
       "    }\n",
       "\n",
       "    .dataframe tbody tr th {\n",
       "        vertical-align: top;\n",
       "    }\n",
       "\n",
       "    .dataframe thead th {\n",
       "        text-align: right;\n",
       "    }\n",
       "</style>\n",
       "<table border=\"1\" class=\"dataframe\">\n",
       "  <thead>\n",
       "    <tr style=\"text-align: right;\">\n",
       "      <th></th>\n",
       "      <th>Model</th>\n",
       "      <th>Cost ($)</th>\n",
       "    </tr>\n",
       "  </thead>\n",
       "  <tbody>\n",
       "    <tr>\n",
       "      <th>0</th>\n",
       "      <td>sdadas/st-polish-paraphrase-from-distilroberta</td>\n",
       "      <td>0.000000</td>\n",
       "    </tr>\n",
       "    <tr>\n",
       "      <th>1</th>\n",
       "      <td>text-embedding-3-small</td>\n",
       "      <td>0.014802</td>\n",
       "    </tr>\n",
       "    <tr>\n",
       "      <th>2</th>\n",
       "      <td>text-embedding-3-large</td>\n",
       "      <td>0.096215</td>\n",
       "    </tr>\n",
       "    <tr>\n",
       "      <th>3</th>\n",
       "      <td>text-embedding-ada-002</td>\n",
       "      <td>0.074012</td>\n",
       "    </tr>\n",
       "    <tr>\n",
       "      <th>4</th>\n",
       "      <td>sdadas/st-polish-paraphrase-from-mpnet</td>\n",
       "      <td>0.000000</td>\n",
       "    </tr>\n",
       "    <tr>\n",
       "      <th>5</th>\n",
       "      <td>OrlikB/st-polish-kartonberta-base-alpha-v1</td>\n",
       "      <td>0.000000</td>\n",
       "    </tr>\n",
       "  </tbody>\n",
       "</table>\n",
       "</div>"
      ],
      "text/plain": [
       "                                            Model  Cost ($)\n",
       "0  sdadas/st-polish-paraphrase-from-distilroberta  0.000000\n",
       "1                          text-embedding-3-small  0.014802\n",
       "2                          text-embedding-3-large  0.096215\n",
       "3                          text-embedding-ada-002  0.074012\n",
       "4          sdadas/st-polish-paraphrase-from-mpnet  0.000000\n",
       "5      OrlikB/st-polish-kartonberta-base-alpha-v1  0.000000"
      ]
     },
     "execution_count": 49,
     "metadata": {},
     "output_type": "execute_result"
    }
   ],
   "source": [
    "embeddings_costs = [{\"Model\" : model.model_info.model_name, \"Cost ($)\": model.get_total_cost()} for model in embedding_models.values()]\n",
    "embeddings_costs_df = pd.DataFrame(embeddings_costs)\n",
    "embeddings_costs_df"
   ]
  },
  {
   "cell_type": "markdown",
   "metadata": {},
   "source": [
    "# Model Evaluation"
   ]
  },
  {
   "cell_type": "markdown",
   "metadata": {},
   "source": [
    "## Running the evaluation"
   ]
  },
  {
   "cell_type": "code",
   "execution_count": 91,
   "metadata": {},
   "outputs": [
    {
     "data": {
      "application/vnd.jupyter.widget-view+json": {
       "model_id": "438a60f238a144cba629210aadc077bf",
       "version_major": 2,
       "version_minor": 0
      },
      "text/plain": [
       "HF_SDADAS. Embedding cost ($): : 0it [00:00, ?it/s]"
      ]
     },
     "metadata": {},
     "output_type": "display_data"
    },
    {
     "data": {
      "application/vnd.jupyter.widget-view+json": {
       "model_id": "f235c409a3a94b63a21f1b9533593154",
       "version_major": 2,
       "version_minor": 0
      },
      "text/plain": [
       "HF_SDADAS. k=1. Wiki sections:   0%|          | 0/400 [00:00<?, ?it/s]"
      ]
     },
     "metadata": {},
     "output_type": "display_data"
    },
    {
     "data": {
      "application/vnd.jupyter.widget-view+json": {
       "model_id": "d5593ee7ff3b41ccb325a302a9ff8c25",
       "version_major": 2,
       "version_minor": 0
      },
      "text/plain": [
       "HF_SDADAS. k=5. Wiki sections:   0%|          | 0/400 [00:00<?, ?it/s]"
      ]
     },
     "metadata": {},
     "output_type": "display_data"
    },
    {
     "data": {
      "application/vnd.jupyter.widget-view+json": {
       "model_id": "97565657e1084adfbd8c610e9f59633e",
       "version_major": 2,
       "version_minor": 0
      },
      "text/plain": [
       "HF_SDADAS. k=10. Wiki sections:   0%|          | 0/400 [00:00<?, ?it/s]"
      ]
     },
     "metadata": {},
     "output_type": "display_data"
    },
    {
     "data": {
      "application/vnd.jupyter.widget-view+json": {
       "model_id": "0954e3f706464bfa8a0357f8425411ee",
       "version_major": 2,
       "version_minor": 0
      },
      "text/plain": [
       "OPENAI_SMALL. Embedding cost ($): : 0it [00:00, ?it/s]"
      ]
     },
     "metadata": {},
     "output_type": "display_data"
    },
    {
     "data": {
      "application/vnd.jupyter.widget-view+json": {
       "model_id": "7ec1f840441b4b469caf90dbd9d6cefb",
       "version_major": 2,
       "version_minor": 0
      },
      "text/plain": [
       "OPENAI_SMALL. k=1. Wiki sections:   0%|          | 0/400 [00:00<?, ?it/s]"
      ]
     },
     "metadata": {},
     "output_type": "display_data"
    },
    {
     "data": {
      "application/vnd.jupyter.widget-view+json": {
       "model_id": "f4aed1c7021d41978d577a965d7c8cce",
       "version_major": 2,
       "version_minor": 0
      },
      "text/plain": [
       "OPENAI_SMALL. k=5. Wiki sections:   0%|          | 0/400 [00:00<?, ?it/s]"
      ]
     },
     "metadata": {},
     "output_type": "display_data"
    },
    {
     "data": {
      "application/vnd.jupyter.widget-view+json": {
       "model_id": "0bba285dd100469bbc8582328b2ae5db",
       "version_major": 2,
       "version_minor": 0
      },
      "text/plain": [
       "OPENAI_SMALL. k=10. Wiki sections:   0%|          | 0/400 [00:00<?, ?it/s]"
      ]
     },
     "metadata": {},
     "output_type": "display_data"
    },
    {
     "data": {
      "application/vnd.jupyter.widget-view+json": {
       "model_id": "ba9b7f1c9fe04101af6ae9f30f6b419a",
       "version_major": 2,
       "version_minor": 0
      },
      "text/plain": [
       "OPENAI_LARGE. Embedding cost ($): : 0it [00:00, ?it/s]"
      ]
     },
     "metadata": {},
     "output_type": "display_data"
    },
    {
     "data": {
      "application/vnd.jupyter.widget-view+json": {
       "model_id": "8809c0b70de2460b846e27e7634c4411",
       "version_major": 2,
       "version_minor": 0
      },
      "text/plain": [
       "OPENAI_LARGE. k=1. Wiki sections:   0%|          | 0/400 [00:00<?, ?it/s]"
      ]
     },
     "metadata": {},
     "output_type": "display_data"
    },
    {
     "data": {
      "application/vnd.jupyter.widget-view+json": {
       "model_id": "796de24b24414479b48086fdb1a527de",
       "version_major": 2,
       "version_minor": 0
      },
      "text/plain": [
       "OPENAI_LARGE. k=5. Wiki sections:   0%|          | 0/400 [00:00<?, ?it/s]"
      ]
     },
     "metadata": {},
     "output_type": "display_data"
    },
    {
     "data": {
      "application/vnd.jupyter.widget-view+json": {
       "model_id": "f023ca5fcfa54d7e9fc517ddde21578b",
       "version_major": 2,
       "version_minor": 0
      },
      "text/plain": [
       "OPENAI_LARGE. k=10. Wiki sections:   0%|          | 0/400 [00:00<?, ?it/s]"
      ]
     },
     "metadata": {},
     "output_type": "display_data"
    },
    {
     "data": {
      "application/vnd.jupyter.widget-view+json": {
       "model_id": "577a2841b62f4df3a4516b434be499d5",
       "version_major": 2,
       "version_minor": 0
      },
      "text/plain": [
       "OPENAI__ADA. Embedding cost ($): : 0it [00:00, ?it/s]"
      ]
     },
     "metadata": {},
     "output_type": "display_data"
    },
    {
     "data": {
      "application/vnd.jupyter.widget-view+json": {
       "model_id": "2f4ce181bd364cd0b1fe1a1530164723",
       "version_major": 2,
       "version_minor": 0
      },
      "text/plain": [
       "OPENAI__ADA. k=1. Wiki sections:   0%|          | 0/400 [00:00<?, ?it/s]"
      ]
     },
     "metadata": {},
     "output_type": "display_data"
    },
    {
     "data": {
      "application/vnd.jupyter.widget-view+json": {
       "model_id": "e9d9b9cec0a54ce894e7dc21a7f7db07",
       "version_major": 2,
       "version_minor": 0
      },
      "text/plain": [
       "OPENAI__ADA. k=5. Wiki sections:   0%|          | 0/400 [00:00<?, ?it/s]"
      ]
     },
     "metadata": {},
     "output_type": "display_data"
    },
    {
     "data": {
      "application/vnd.jupyter.widget-view+json": {
       "model_id": "f85fb67f5d2549a1b7a00d64b603e9b4",
       "version_major": 2,
       "version_minor": 0
      },
      "text/plain": [
       "OPENAI__ADA. k=10. Wiki sections:   0%|          | 0/400 [00:00<?, ?it/s]"
      ]
     },
     "metadata": {},
     "output_type": "display_data"
    },
    {
     "data": {
      "application/vnd.jupyter.widget-view+json": {
       "model_id": "cd702c8e59034f27b62e7055e2de3e13",
       "version_major": 2,
       "version_minor": 0
      },
      "text/plain": [
       "HF_MPNET. Embedding cost ($): : 0it [00:00, ?it/s]"
      ]
     },
     "metadata": {},
     "output_type": "display_data"
    },
    {
     "data": {
      "application/vnd.jupyter.widget-view+json": {
       "model_id": "c276fcc5c3f34ab3bf4a744540914e5b",
       "version_major": 2,
       "version_minor": 0
      },
      "text/plain": [
       "HF_MPNET. k=1. Wiki sections:   0%|          | 0/400 [00:00<?, ?it/s]"
      ]
     },
     "metadata": {},
     "output_type": "display_data"
    },
    {
     "data": {
      "application/vnd.jupyter.widget-view+json": {
       "model_id": "5e225c1e19f54798b6aa2eb96ab54c0a",
       "version_major": 2,
       "version_minor": 0
      },
      "text/plain": [
       "HF_MPNET. k=5. Wiki sections:   0%|          | 0/400 [00:00<?, ?it/s]"
      ]
     },
     "metadata": {},
     "output_type": "display_data"
    },
    {
     "data": {
      "application/vnd.jupyter.widget-view+json": {
       "model_id": "f879b0991e9a45e3aed405af5b282d6e",
       "version_major": 2,
       "version_minor": 0
      },
      "text/plain": [
       "HF_MPNET. k=10. Wiki sections:   0%|          | 0/400 [00:00<?, ?it/s]"
      ]
     },
     "metadata": {},
     "output_type": "display_data"
    },
    {
     "data": {
      "application/vnd.jupyter.widget-view+json": {
       "model_id": "c4c8dcf92d35400f9b01fe64da9ff4dc",
       "version_major": 2,
       "version_minor": 0
      },
      "text/plain": [
       "HF_KARTONBERTA. Embedding cost ($): : 0it [00:00, ?it/s]"
      ]
     },
     "metadata": {},
     "output_type": "display_data"
    },
    {
     "data": {
      "application/vnd.jupyter.widget-view+json": {
       "model_id": "2c05ccb0b28f43f280621fdcfb9cfca2",
       "version_major": 2,
       "version_minor": 0
      },
      "text/plain": [
       "HF_KARTONBERTA. k=1. Wiki sections:   0%|          | 0/400 [00:00<?, ?it/s]"
      ]
     },
     "metadata": {},
     "output_type": "display_data"
    },
    {
     "data": {
      "application/vnd.jupyter.widget-view+json": {
       "model_id": "5905966323ea41108dd3ba7a89966a4b",
       "version_major": 2,
       "version_minor": 0
      },
      "text/plain": [
       "HF_KARTONBERTA. k=5. Wiki sections:   0%|          | 0/400 [00:00<?, ?it/s]"
      ]
     },
     "metadata": {},
     "output_type": "display_data"
    },
    {
     "data": {
      "application/vnd.jupyter.widget-view+json": {
       "model_id": "74b64ca676704f9ca0f3f8d231f3781b",
       "version_major": 2,
       "version_minor": 0
      },
      "text/plain": [
       "HF_KARTONBERTA. k=10. Wiki sections:   0%|          | 0/400 [00:00<?, ?it/s]"
      ]
     },
     "metadata": {},
     "output_type": "display_data"
    }
   ],
   "source": [
    "from tqdm.autonotebook import tqdm\n",
    "\n",
    "test_df = pages_df.copy()[:400]\n",
    "\n",
    "evaluatiion_results = []\n",
    "\n",
    "for index_name in vector_db.list_indices():\n",
    "    model = embedding_models[index_name]\n",
    "    cost = model.get_total_cost()\n",
    "    embedding_tokens_bar = tqdm(desc=f\"{index_name}. Embedding cost ($): \")\n",
    "\n",
    "    for k in [1, 5, 10]:\n",
    "        for _, row in tqdm(list(test_df.iterrows()), desc=f\"{index_name}. k={k}. Wiki sections: \"):\n",
    "            matched_with_answer = 0\n",
    "            for question in row['questions']:\n",
    "                found_text = vector_db.find_text(text=question, top_k=k, index_name=index_name)\n",
    "\n",
    "                # if row['Section With Context'] in found_text:\n",
    "                #     matched_with_answer += 1\n",
    "                \n",
    "                embedding_tokens_bar.update(model.get_total_cost() - cost - embedding_tokens_bar.n)\n",
    "                evaluatiion_results.append({\n",
    "                    \"Model Name\": index_name,\n",
    "                    \"k\": k,\n",
    "                    \"Section\": row['Section With Context'],\n",
    "                    \"Question\": question,\n",
    "                    \"Found text\": found_text,\n",
    "                    \"Matched with answer\": row['Section With Context'] in found_text\n",
    "                })"
   ]
  },
  {
   "cell_type": "code",
   "execution_count": 180,
   "metadata": {},
   "outputs": [
    {
     "data": {
      "text/html": [
       "<div>\n",
       "<style scoped>\n",
       "    .dataframe tbody tr th:only-of-type {\n",
       "        vertical-align: middle;\n",
       "    }\n",
       "\n",
       "    .dataframe tbody tr th {\n",
       "        vertical-align: top;\n",
       "    }\n",
       "\n",
       "    .dataframe thead th {\n",
       "        text-align: right;\n",
       "    }\n",
       "</style>\n",
       "<table border=\"1\" class=\"dataframe\">\n",
       "  <thead>\n",
       "    <tr style=\"text-align: right;\">\n",
       "      <th>k</th>\n",
       "      <th>Section</th>\n",
       "      <th>Question</th>\n",
       "      <th>Model Name</th>\n",
       "      <th>k=1</th>\n",
       "      <th>k=5</th>\n",
       "      <th>k=10</th>\n",
       "    </tr>\n",
       "  </thead>\n",
       "  <tbody>\n",
       "    <tr>\n",
       "      <th>0</th>\n",
       "      <td>Anachoretyzm\\nAnachoretyzm (z anachoreo – „odd...</td>\n",
       "      <td>Jak anachoretyzm przyczynił się do rozwoju for...</td>\n",
       "      <td>HF_KARTONBERTA</td>\n",
       "      <td>0</td>\n",
       "      <td>1</td>\n",
       "      <td>1</td>\n",
       "    </tr>\n",
       "    <tr>\n",
       "      <th>1</th>\n",
       "      <td>Anachoretyzm\\nAnachoretyzm (z anachoreo – „odd...</td>\n",
       "      <td>Jak anachoretyzm przyczynił się do rozwoju for...</td>\n",
       "      <td>HF_MPNET</td>\n",
       "      <td>0</td>\n",
       "      <td>0</td>\n",
       "      <td>0</td>\n",
       "    </tr>\n",
       "    <tr>\n",
       "      <th>2</th>\n",
       "      <td>Anachoretyzm\\nAnachoretyzm (z anachoreo – „odd...</td>\n",
       "      <td>Jak anachoretyzm przyczynił się do rozwoju for...</td>\n",
       "      <td>HF_SDADAS</td>\n",
       "      <td>0</td>\n",
       "      <td>0</td>\n",
       "      <td>1</td>\n",
       "    </tr>\n",
       "    <tr>\n",
       "      <th>3</th>\n",
       "      <td>Anachoretyzm\\nAnachoretyzm (z anachoreo – „odd...</td>\n",
       "      <td>Jak anachoretyzm przyczynił się do rozwoju for...</td>\n",
       "      <td>OPENAI_LARGE</td>\n",
       "      <td>1</td>\n",
       "      <td>1</td>\n",
       "      <td>1</td>\n",
       "    </tr>\n",
       "    <tr>\n",
       "      <th>4</th>\n",
       "      <td>Anachoretyzm\\nAnachoretyzm (z anachoreo – „odd...</td>\n",
       "      <td>Jak anachoretyzm przyczynił się do rozwoju for...</td>\n",
       "      <td>OPENAI_SMALL</td>\n",
       "      <td>1</td>\n",
       "      <td>1</td>\n",
       "      <td>1</td>\n",
       "    </tr>\n",
       "  </tbody>\n",
       "</table>\n",
       "</div>"
      ],
      "text/plain": [
       "k                                            Section  \\\n",
       "0  Anachoretyzm\\nAnachoretyzm (z anachoreo – „odd...   \n",
       "1  Anachoretyzm\\nAnachoretyzm (z anachoreo – „odd...   \n",
       "2  Anachoretyzm\\nAnachoretyzm (z anachoreo – „odd...   \n",
       "3  Anachoretyzm\\nAnachoretyzm (z anachoreo – „odd...   \n",
       "4  Anachoretyzm\\nAnachoretyzm (z anachoreo – „odd...   \n",
       "\n",
       "k                                           Question      Model Name  k=1  \\\n",
       "0  Jak anachoretyzm przyczynił się do rozwoju for...  HF_KARTONBERTA    0   \n",
       "1  Jak anachoretyzm przyczynił się do rozwoju for...        HF_MPNET    0   \n",
       "2  Jak anachoretyzm przyczynił się do rozwoju for...       HF_SDADAS    0   \n",
       "3  Jak anachoretyzm przyczynił się do rozwoju for...    OPENAI_LARGE    1   \n",
       "4  Jak anachoretyzm przyczynił się do rozwoju for...    OPENAI_SMALL    1   \n",
       "\n",
       "k  k=5  k=10  \n",
       "0    1     1  \n",
       "1    0     0  \n",
       "2    0     1  \n",
       "3    1     1  \n",
       "4    1     1  "
      ]
     },
     "execution_count": 180,
     "metadata": {},
     "output_type": "execute_result"
    }
   ],
   "source": [
    "evaluatiion_results_df = pd.DataFrame(evaluatiion_results)\n",
    "evaluatiion_results_df = evaluatiion_results_df.pivot_table(index=['Section', 'Question', 'Model Name'], columns=['k'], values=['Matched with answer'], aggfunc='sum').add_prefix('k=')\n",
    "evaluatiion_results_df = evaluatiion_results_df.droplevel(0, axis=1).reset_index()\n",
    "evaluatiion_results_df.head()"
   ]
  },
  {
   "cell_type": "markdown",
   "metadata": {},
   "source": [
    "## Average number of questions correctly answered"
   ]
  },
  {
   "cell_type": "code",
   "execution_count": 134,
   "metadata": {},
   "outputs": [
    {
     "data": {
      "text/html": [
       "<div>\n",
       "<style scoped>\n",
       "    .dataframe tbody tr th:only-of-type {\n",
       "        vertical-align: middle;\n",
       "    }\n",
       "\n",
       "    .dataframe tbody tr th {\n",
       "        vertical-align: top;\n",
       "    }\n",
       "\n",
       "    .dataframe thead th {\n",
       "        text-align: right;\n",
       "    }\n",
       "</style>\n",
       "<table border=\"1\" class=\"dataframe\">\n",
       "  <thead>\n",
       "    <tr style=\"text-align: right;\">\n",
       "      <th>k</th>\n",
       "      <th>k=1</th>\n",
       "      <th>k=5</th>\n",
       "      <th>k=10</th>\n",
       "    </tr>\n",
       "    <tr>\n",
       "      <th>Model Name</th>\n",
       "      <th></th>\n",
       "      <th></th>\n",
       "      <th></th>\n",
       "    </tr>\n",
       "  </thead>\n",
       "  <tbody>\n",
       "    <tr>\n",
       "      <th>HF_SDADAS</th>\n",
       "      <td>3.0950</td>\n",
       "      <td>4.3375</td>\n",
       "      <td>4.6275</td>\n",
       "    </tr>\n",
       "    <tr>\n",
       "      <th>HF_MPNET</th>\n",
       "      <td>3.1925</td>\n",
       "      <td>4.3675</td>\n",
       "      <td>4.5925</td>\n",
       "    </tr>\n",
       "    <tr>\n",
       "      <th>OPENAI__ADA</th>\n",
       "      <td>3.4675</td>\n",
       "      <td>4.6000</td>\n",
       "      <td>4.7950</td>\n",
       "    </tr>\n",
       "    <tr>\n",
       "      <th>HF_KARTONBERTA</th>\n",
       "      <td>3.6150</td>\n",
       "      <td>4.6650</td>\n",
       "      <td>4.8150</td>\n",
       "    </tr>\n",
       "    <tr>\n",
       "      <th>OPENAI_SMALL</th>\n",
       "      <td>3.6700</td>\n",
       "      <td>4.6875</td>\n",
       "      <td>4.8550</td>\n",
       "    </tr>\n",
       "  </tbody>\n",
       "</table>\n",
       "</div>"
      ],
      "text/plain": [
       "k                  k=1     k=5    k=10\n",
       "Model Name                            \n",
       "HF_SDADAS       3.0950  4.3375  4.6275\n",
       "HF_MPNET        3.1925  4.3675  4.5925\n",
       "OPENAI__ADA     3.4675  4.6000  4.7950\n",
       "HF_KARTONBERTA  3.6150  4.6650  4.8150\n",
       "OPENAI_SMALL    3.6700  4.6875  4.8550"
      ]
     },
     "execution_count": 134,
     "metadata": {},
     "output_type": "execute_result"
    }
   ],
   "source": [
    "questions_per_section_df = evaluatiion_results_df.groupby(['Section', 'Model Name'])[['k=1', 'k=5', 'k=10']].sum()\n",
    "meand_qs_df = questions_per_section_df.groupby('Model Name').mean().reset_index()\n",
    "errors_df = questions_per_section_df.groupby('Model Name').std().reset_index()\n",
    "meand_qs_df.set_index('Model Name', inplace=True)\n",
    "\n",
    "meand_qs_df = meand_qs_df.sort_values(by='k=1', ascending=True)\n",
    "errors_df = errors_df.set_index('Model Name').reindex(meand_qs_df.index)\n",
    "\n",
    "meand_qs_df.head()"
   ]
  },
  {
   "cell_type": "code",
   "execution_count": null,
   "metadata": {},
   "outputs": [
    {
     "data": {
      "text/html": [
       "<div>\n",
       "<style scoped>\n",
       "    .dataframe tbody tr th:only-of-type {\n",
       "        vertical-align: middle;\n",
       "    }\n",
       "\n",
       "    .dataframe tbody tr th {\n",
       "        vertical-align: top;\n",
       "    }\n",
       "\n",
       "    .dataframe thead th {\n",
       "        text-align: right;\n",
       "    }\n",
       "</style>\n",
       "<table border=\"1\" class=\"dataframe\">\n",
       "  <thead>\n",
       "    <tr style=\"text-align: right;\">\n",
       "      <th>k</th>\n",
       "      <th>k=1</th>\n",
       "      <th>k=5</th>\n",
       "      <th>k=10</th>\n",
       "    </tr>\n",
       "    <tr>\n",
       "      <th>Model Name</th>\n",
       "      <th></th>\n",
       "      <th></th>\n",
       "      <th></th>\n",
       "    </tr>\n",
       "  </thead>\n",
       "  <tbody>\n",
       "    <tr>\n",
       "      <th>HF_SDADAS</th>\n",
       "      <td>1.421628</td>\n",
       "      <td>0.911411</td>\n",
       "      <td>0.703549</td>\n",
       "    </tr>\n",
       "    <tr>\n",
       "      <th>HF_MPNET</th>\n",
       "      <td>1.398332</td>\n",
       "      <td>0.932533</td>\n",
       "      <td>0.733340</td>\n",
       "    </tr>\n",
       "    <tr>\n",
       "      <th>OPENAI__ADA</th>\n",
       "      <td>1.326024</td>\n",
       "      <td>0.675382</td>\n",
       "      <td>0.508548</td>\n",
       "    </tr>\n",
       "    <tr>\n",
       "      <th>HF_KARTONBERTA</th>\n",
       "      <td>1.282922</td>\n",
       "      <td>0.654864</td>\n",
       "      <td>0.491303</td>\n",
       "    </tr>\n",
       "    <tr>\n",
       "      <th>OPENAI_SMALL</th>\n",
       "      <td>1.262968</td>\n",
       "      <td>0.667801</td>\n",
       "      <td>0.446625</td>\n",
       "    </tr>\n",
       "  </tbody>\n",
       "</table>\n",
       "</div>"
      ],
      "text/plain": [
       "k                    k=1       k=5      k=10\n",
       "Model Name                                  \n",
       "HF_SDADAS       1.421628  0.911411  0.703549\n",
       "HF_MPNET        1.398332  0.932533  0.733340\n",
       "OPENAI__ADA     1.326024  0.675382  0.508548\n",
       "HF_KARTONBERTA  1.282922  0.654864  0.491303\n",
       "OPENAI_SMALL    1.262968  0.667801  0.446625"
      ]
     },
     "execution_count": 135,
     "metadata": {},
     "output_type": "execute_result"
    }
   ],
   "source": [
    "errors_df.head()"
   ]
  },
  {
   "cell_type": "code",
   "execution_count": 145,
   "metadata": {},
   "outputs": [
    {
     "data": {
      "image/png": "[encoded data removed]",
      "text/plain": [
       "<Figure size 1000x600 with 1 Axes>"
      ]
     },
     "metadata": {},
     "output_type": "display_data"
    }
   ],
   "source": [
    "axes = meand_qs_df.plot(y=['k=1', 'k=5', 'k=10'], kind=\"barh\", \n",
    "                        width=0.8, figsize=(10, 6), \n",
    "                        color=['#78B3CE', '#C9E6F0', '#80C4E9'],\n",
    "                        # xerr=errors_df[['k=1', 'k=5', 'k=10']]\n",
    "                        # color = ['#696969', '#909090', '#C8C8C8']\n",
    "                        )\n",
    "axes.legend(loc='lower right')\n",
    "axes.spines['top'].set_visible(False)\n",
    "axes.spines['right'].set_visible(False)\n",
    "axes.set_xlim(0, 6)\n",
    "\n",
    "y_axis = axes.get_yaxis()\n",
    "y_label = y_axis.get_label()\n",
    "y_label.set_visible(False)\n",
    "\n",
    "x_axis = axes.get_xaxis()\n",
    "x_label = x_axis.get_label()\n",
    "x_label.set_visible(True)\n",
    "x_label.set_text(\"Number of questions matched with the answer\")\n",
    "\n",
    "plt.tight_layout()"
   ]
  },
  {
   "cell_type": "markdown",
   "metadata": {},
   "source": [
    "## Total number of questions correctly answered"
   ]
  },
  {
   "cell_type": "code",
   "execution_count": 189,
   "metadata": {},
   "outputs": [
    {
     "data": {
      "text/html": [
       "<div>\n",
       "<style scoped>\n",
       "    .dataframe tbody tr th:only-of-type {\n",
       "        vertical-align: middle;\n",
       "    }\n",
       "\n",
       "    .dataframe tbody tr th {\n",
       "        vertical-align: top;\n",
       "    }\n",
       "\n",
       "    .dataframe thead th {\n",
       "        text-align: right;\n",
       "    }\n",
       "</style>\n",
       "<table border=\"1\" class=\"dataframe\">\n",
       "  <thead>\n",
       "    <tr style=\"text-align: right;\">\n",
       "      <th>k</th>\n",
       "      <th>k=1</th>\n",
       "      <th>k=5</th>\n",
       "      <th>k=10</th>\n",
       "    </tr>\n",
       "    <tr>\n",
       "      <th>Model Name</th>\n",
       "      <th></th>\n",
       "      <th></th>\n",
       "      <th></th>\n",
       "    </tr>\n",
       "  </thead>\n",
       "  <tbody>\n",
       "    <tr>\n",
       "      <th>HF_SDADAS</th>\n",
       "      <td>1238</td>\n",
       "      <td>1735</td>\n",
       "      <td>1851</td>\n",
       "    </tr>\n",
       "    <tr>\n",
       "      <th>HF_MPNET</th>\n",
       "      <td>1277</td>\n",
       "      <td>1747</td>\n",
       "      <td>1837</td>\n",
       "    </tr>\n",
       "    <tr>\n",
       "      <th>OPENAI__ADA</th>\n",
       "      <td>1387</td>\n",
       "      <td>1840</td>\n",
       "      <td>1918</td>\n",
       "    </tr>\n",
       "    <tr>\n",
       "      <th>HF_KARTONBERTA</th>\n",
       "      <td>1446</td>\n",
       "      <td>1866</td>\n",
       "      <td>1926</td>\n",
       "    </tr>\n",
       "    <tr>\n",
       "      <th>OPENAI_SMALL</th>\n",
       "      <td>1468</td>\n",
       "      <td>1875</td>\n",
       "      <td>1942</td>\n",
       "    </tr>\n",
       "    <tr>\n",
       "      <th>OPENAI_LARGE</th>\n",
       "      <td>1554</td>\n",
       "      <td>1925</td>\n",
       "      <td>1969</td>\n",
       "    </tr>\n",
       "  </tbody>\n",
       "</table>\n",
       "</div>"
      ],
      "text/plain": [
       "k                k=1   k=5  k=10\n",
       "Model Name                      \n",
       "HF_SDADAS       1238  1735  1851\n",
       "HF_MPNET        1277  1747  1837\n",
       "OPENAI__ADA     1387  1840  1918\n",
       "HF_KARTONBERTA  1446  1866  1926\n",
       "OPENAI_SMALL    1468  1875  1942\n",
       "OPENAI_LARGE    1554  1925  1969"
      ]
     },
     "execution_count": 189,
     "metadata": {},
     "output_type": "execute_result"
    }
   ],
   "source": [
    "total_qs_df = evaluatiion_results_df.groupby(['Model Name'])[['k=1', 'k=5', 'k=10']].sum()\n",
    "total_qs_df = total_qs_df.sort_values(by='k=1', ascending=True)\n",
    "total_qs_df"
   ]
  },
  {
   "cell_type": "code",
   "execution_count": 190,
   "metadata": {},
   "outputs": [
    {
     "data": {
      "image/png": "[encoded data removed]",
      "text/plain": [
       "<Figure size 1000x600 with 1 Axes>"
      ]
     },
     "metadata": {},
     "output_type": "display_data"
    }
   ],
   "source": [
    "axes = total_qs_df.plot(y=['k=1', 'k=5', 'k=10'], kind=\"barh\", \n",
    "                        width=0.8, figsize=(10, 6), \n",
    "                        color=['#78B3CE', '#C9E6F0', '#80C4E9'],\n",
    "                        # xerr=errors_df[['k=1', 'k=5', 'k=10']]\n",
    "                        # color = ['#696969', '#909090', '#C8C8C8']\n",
    "                        )\n",
    "axes.legend(loc='lower right')\n",
    "axes.spines['top'].set_visible(False)\n",
    "axes.spines['right'].set_visible(False)\n",
    "axes.set_xlim(0, 2300)\n",
    "\n",
    "y_axis = axes.get_yaxis()\n",
    "y_label = y_axis.get_label()\n",
    "y_label.set_visible(False)\n",
    "\n",
    "x_axis = axes.get_xaxis()\n",
    "x_label = x_axis.get_label()\n",
    "x_label.set_visible(True)\n",
    "x_label.set_text(\"Number of questions matched with the answer\")\n",
    "\n",
    "plt.tight_layout()"
   ]
  },
  {
   "cell_type": "code",
   "execution_count": null,
   "metadata": {},
   "outputs": [],
   "source": []
  }
 ],
 "metadata": {
  "kernelspec": {
   "display_name": "embeddings-comparison-JqTXriCt-py3.12",
   "language": "python",
   "name": "python3"
  },
  "language_info": {
   "codemirror_mode": {
    "name": "ipython",
    "version": 3
   },
   "file_extension": ".py",
   "mimetype": "text/x-python",
   "name": "python",
   "nbconvert_exporter": "python",
   "pygments_lexer": "ipython3",
   "version": "3.12.3"
  }
 },
 "nbformat": 4,
 "nbformat_minor": 2
}
